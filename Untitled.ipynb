{
 "cells": [
  {
   "cell_type": "markdown",
   "id": "b05dd78b",
   "metadata": {},
   "source": [
    "# Django Helpful Commands"
   ]
  },
  {
   "cell_type": "markdown",
   "id": "7ec6d4bb",
   "metadata": {},
   "source": [
    "## Create Apps"
   ]
  },
  {
   "cell_type": "markdown",
   "id": "1e45fbd1",
   "metadata": {},
   "source": [
    "1. Terminal: `python manage.py startapp <app_name>`\n",
    "2. Add class from new apps `app.py` file to the INSTALLED_APPS list in the main project's `settings.py` file\n",
    "3. Create a function in new apps `views.py` file REQUEST"
   ]
  },
  {
   "cell_type": "markdown",
   "id": "7f92d5c8",
   "metadata": {},
   "source": [
    "## Run Server"
   ]
  },
  {
   "cell_type": "markdown",
   "id": "4e1b75d9",
   "metadata": {},
   "source": [
    "`python manage.py runserver`"
   ]
  },
  {
   "cell_type": "markdown",
   "id": "b3e55665",
   "metadata": {},
   "source": [
    "## Register Users"
   ]
  },
  {
   "cell_type": "markdown",
   "id": "17cc2fb6",
   "metadata": {},
   "source": [
    "Premade user creation form available - crispy forms for built in style"
   ]
  },
  {
   "cell_type": "markdown",
   "id": "ae0fe866",
   "metadata": {},
   "source": [
    "## Login and access"
   ]
  },
  {
   "cell_type": "markdown",
   "id": "e8121369",
   "metadata": {},
   "source": [
    "`from django.contrib.auth import views as auth_views`\n"
   ]
  },
  {
   "cell_type": "markdown",
   "id": "572bd206",
   "metadata": {},
   "source": [
    "In views to check if user is logged in:\n",
    "`{% if user.is_authenticated %}`"
   ]
  },
  {
   "cell_type": "markdown",
   "id": "d50beab4",
   "metadata": {},
   "source": [
    "To force login for pages\n",
    "`from django.contrib.auth.decorators import login_required`\n",
    "\n",
    "`@login_required`\n",
    "\n",
    "👆 redirects to django built int /admin/users/ url, need to add `LOGIN_URL` variable to main projects `setup.py` file if you have custom endpoint"
   ]
  },
  {
   "cell_type": "markdown",
   "id": "4404d137",
   "metadata": {},
   "source": [
    "## Migrations"
   ]
  },
  {
   "cell_type": "markdown",
   "id": "a8922939",
   "metadata": {},
   "source": [
    "Make a migration file:\n",
    "\n",
    "`python manage.py makemigrations`\n",
    "\n",
    "Perform the migration:\n",
    "\n",
    "`python manage.py migrate`\n"
   ]
  },
  {
   "cell_type": "markdown",
   "id": "caf93a06",
   "metadata": {},
   "source": [
    "## Register model with admin"
   ]
  },
  {
   "cell_type": "markdown",
   "id": "9b349b02",
   "metadata": {},
   "source": [
    "In new apps `admin.py` file, import model and then register:\n",
    "\n",
    "`from .models import Profile`\n",
    "\n",
    "`admin.site.register(Profile)`\n",
    "\n"
   ]
  },
  {
   "cell_type": "markdown",
   "id": "e2b3d77a",
   "metadata": {},
   "source": [
    "## Interactive DB shell"
   ]
  },
  {
   "cell_type": "markdown",
   "id": "83390324",
   "metadata": {},
   "source": [
    "`python manage.py shell`\n",
    "\n",
    "Import model you want to work with\n",
    "\n",
    "`from django.contrib.auth.models import User`\n",
    "\n",
    "filter through objects to query\n",
    "\n",
    "`user = User.objects.filter(username='bestuser').first()`\n",
    "\n",
    "select attributes you want\n",
    "\n",
    "`user.profile.image`"
   ]
  },
  {
   "cell_type": "markdown",
   "id": "e194f3ca",
   "metadata": {},
   "source": [
    "## Signals"
   ]
  },
  {
   "cell_type": "markdown",
   "id": "1cce2cf7",
   "metadata": {},
   "source": [
    "Use signals to perform actions once something is completed, IE - create a profile once a user is created "
   ]
  },
  {
   "cell_type": "code",
   "execution_count": null,
   "id": "0fcc2b86",
   "metadata": {},
   "outputs": [],
   "source": []
  }
 ],
 "metadata": {
  "kernelspec": {
   "display_name": "Python 3 (ipykernel)",
   "language": "python",
   "name": "python3"
  },
  "language_info": {
   "codemirror_mode": {
    "name": "ipython",
    "version": 3
   },
   "file_extension": ".py",
   "mimetype": "text/x-python",
   "name": "python",
   "nbconvert_exporter": "python",
   "pygments_lexer": "ipython3",
   "version": "3.8.6"
  },
  "toc": {
   "base_numbering": 1,
   "nav_menu": {},
   "number_sections": true,
   "sideBar": true,
   "skip_h1_title": false,
   "title_cell": "Table of Contents",
   "title_sidebar": "Contents",
   "toc_cell": false,
   "toc_position": {},
   "toc_section_display": true,
   "toc_window_display": false
  },
  "varInspector": {
   "cols": {
    "lenName": 16,
    "lenType": 16,
    "lenVar": 40
   },
   "kernels_config": {
    "python": {
     "delete_cmd_postfix": "",
     "delete_cmd_prefix": "del ",
     "library": "var_list.py",
     "varRefreshCmd": "print(var_dic_list())"
    },
    "r": {
     "delete_cmd_postfix": ") ",
     "delete_cmd_prefix": "rm(",
     "library": "var_list.r",
     "varRefreshCmd": "cat(var_dic_list()) "
    }
   },
   "types_to_exclude": [
    "module",
    "function",
    "builtin_function_or_method",
    "instance",
    "_Feature"
   ],
   "window_display": false
  }
 },
 "nbformat": 4,
 "nbformat_minor": 5
}
